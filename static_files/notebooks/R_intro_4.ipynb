{
 "cells": [
  {
   "cell_type": "markdown",
   "id": "7e2c6980",
   "metadata": {},
   "source": [
    "<div style=\"display:block\" direction=rtl align=right><br><br>\n",
    "    <div  style=\"width:100%;margin:100;display:block\"  display=block align=center>\n",
    "        <img width=130 align=right src=\"https://i.ibb.co/yXKQmtZ/logo1.png\" style=\"margin:200;\" />\n",
    "        <img width=170 align=left  src=\"https://i.ibb.co/wLjqFkw/logo2.png\" style=\"margin:0;\" />\n",
    "        <span><br><font size=6>University of Tehran, school of ECE</font></span>\n",
    "        <span><br><font size=4>Statistical Inference Course</font></span>\n",
    "        <span><br><font size=3>R workshop</font></span>\n",
    "        <span><br><font size=3>Factors and Lists</font></span>\n",
    "        <span><br><font size=3>Spring 1402</font></span>\n",
    "    </div><br><br><br>\n",
    "    <div style=\"display:block\" align=left display=block> \n",
    "    </div>\n",
    "    <hr />\n",
    "</div>"
   ]
  },
  {
   "cell_type": "markdown",
   "id": "cf072e57",
   "metadata": {},
   "source": [
    "- [x] basic data type\n",
    "- [x] vectors\n",
    "- [ ] factors\n",
    "- [ ] lists"
   ]
  },
  {
   "cell_type": "markdown",
   "id": "d253e055",
   "metadata": {},
   "source": [
    "## Categorical vs Numerical data\n",
    " \n",
    "In this course, we're dealing with random variables.\n",
    "\n",
    "Random variables:\n",
    "* numerical\n",
    "* categorical\n",
    "\n",
    "\n",
    "# Factors\n",
    "\n",
    "Factor is a data structure that is used to categorize the data and store it as levels.\n"
   ]
  },
  {
   "cell_type": "markdown",
   "id": "6e5dc99b",
   "metadata": {},
   "source": [
    "## Vectors vs Factors"
   ]
  },
  {
   "cell_type": "code",
   "execution_count": 1,
   "id": "92ff7dc6",
   "metadata": {
    "vscode": {
     "languageId": "r"
    }
   },
   "outputs": [
    {
     "name": "stdout",
     "output_type": "stream",
     "text": [
      "[1] \"A\" \"B\" \"C\" \"C\" \"D\" \"A\" \"B\" \"B\"\n"
     ]
    },
    {
     "data": {
      "text/html": [
       "'character'"
      ],
      "text/latex": [
       "'character'"
      ],
      "text/markdown": [
       "'character'"
      ],
      "text/plain": [
       "[1] \"character\""
      ]
     },
     "metadata": {},
     "output_type": "display_data"
    }
   ],
   "source": [
    "grades_char <- c(\"A\", \"B\", \"C\", \"C\", \"D\", \"A\", \"B\", \"B\")\n",
    "grades_int <- c(4, 3, 2, 2, 1, 4, 3, 3)\n",
    "print(grades_char)\n",
    "class(grades_char)"
   ]
  },
  {
   "cell_type": "markdown",
   "id": "5063c18a",
   "metadata": {},
   "source": [
    "## Factors have **levels**."
   ]
  },
  {
   "cell_type": "code",
   "execution_count": 2,
   "id": "c6451985",
   "metadata": {
    "vscode": {
     "languageId": "r"
    }
   },
   "outputs": [
    {
     "name": "stdout",
     "output_type": "stream",
     "text": [
      "[1] \"factor\"\n",
      "[1] A B C C D A B B\n",
      "Levels: A B C D\n"
     ]
    }
   ],
   "source": [
    "grades_char_fac <- as.factor(grades_char)\n",
    "print(class(grades_char_fac))\n",
    "print(grades_char_fac)"
   ]
  },
  {
   "cell_type": "code",
   "execution_count": 3,
   "id": "27cd9ee4",
   "metadata": {},
   "outputs": [
    {
     "name": "stdout",
     "output_type": "stream",
     "text": [
      "[1] \"factor\"\n",
      "[1] 4 3 2 2 1 4 3 3\n",
      "Levels: 1 2 3 4\n"
     ]
    }
   ],
   "source": [
    "grades_int_fac <- as.factor(grades_int)\n",
    "print(class(grades_int_fac))\n",
    "print(grades_int_fac)"
   ]
  },
  {
   "cell_type": "markdown",
   "id": "ccb3e6dd",
   "metadata": {},
   "source": [
    "## Factors have finite levels"
   ]
  },
  {
   "cell_type": "code",
   "execution_count": 4,
   "id": "b3d4b607",
   "metadata": {
    "vscode": {
     "languageId": "r"
    }
   },
   "outputs": [
    {
     "name": "stdout",
     "output_type": "stream",
     "text": [
      "[1] \"A\" \"A\" \"C\" \"C\" \"D\" \"A\" \"B\" \"B\"\n"
     ]
    }
   ],
   "source": [
    "grades_char[2] <- \"A\"\n",
    "print(grades_char)"
   ]
  },
  {
   "cell_type": "code",
   "execution_count": 5,
   "id": "341948ca",
   "metadata": {
    "vscode": {
     "languageId": "r"
    }
   },
   "outputs": [
    {
     "name": "stderr",
     "output_type": "stream",
     "text": [
      "Warning message in `[<-.factor`(`*tmp*`, 1, value = \"A+\"):\n",
      "\"invalid factor level, NA generated\"\n"
     ]
    },
    {
     "name": "stdout",
     "output_type": "stream",
     "text": [
      "[1] <NA> B    C    C    D    A    B    B   \n",
      "Levels: A B C D\n"
     ]
    }
   ],
   "source": [
    "grades_char_fac[1] <-\"A+\"\n",
    "print(grades_char_fac)"
   ]
  },
  {
   "cell_type": "markdown",
   "id": "644972bc",
   "metadata": {},
   "source": [
    "### access to levels of a factor  :  `levels()` function"
   ]
  },
  {
   "cell_type": "code",
   "execution_count": 6,
   "id": "88e72f49",
   "metadata": {
    "vscode": {
     "languageId": "r"
    }
   },
   "outputs": [
    {
     "name": "stdout",
     "output_type": "stream",
     "text": [
      "[1] \"A\" \"B\" \"C\" \"D\"\n"
     ]
    }
   ],
   "source": [
    "print(levels(grades_char_fac))"
   ]
  },
  {
   "cell_type": "code",
   "execution_count": 7,
   "id": "9b42115d",
   "metadata": {},
   "outputs": [
    {
     "name": "stdout",
     "output_type": "stream",
     "text": [
      "[1] \"1\" \"2\" \"3\" \"4\"\n"
     ]
    }
   ],
   "source": [
    "print(levels(grades_int_fac))"
   ]
  },
  {
   "cell_type": "markdown",
   "id": "cbefe847",
   "metadata": {},
   "source": [
    "###  a factor's levels will always be character values."
   ]
  },
  {
   "cell_type": "code",
   "execution_count": 8,
   "id": "2499361c",
   "metadata": {},
   "outputs": [
    {
     "name": "stdout",
     "output_type": "stream",
     "text": [
      "[1] \"character\"\n",
      "[1] \"character\"\n"
     ]
    }
   ],
   "source": [
    "print(class(levels(grades_char_fac))) # char vector converted to factor\n",
    "print(class(levels(grades_int_fac))) # int vector converted to factor"
   ]
  },
  {
   "cell_type": "code",
   "execution_count": 9,
   "id": "33d94f21",
   "metadata": {
    "vscode": {
     "languageId": "r"
    }
   },
   "outputs": [
    {
     "name": "stdout",
     "output_type": "stream",
     "text": [
      "[1] <NA> B    C    C    D    A    B    B   \n",
      "Levels: A B C D A+\n"
     ]
    }
   ],
   "source": [
    "levels(grades_char_fac) <- c(levels(grades_char_fac), \"A+\") # levels(grades_char_fac) returns a pointer.\n",
    "print(grades_char_fac)"
   ]
  },
  {
   "cell_type": "code",
   "execution_count": 10,
   "id": "448a2eec",
   "metadata": {
    "vscode": {
     "languageId": "r"
    }
   },
   "outputs": [
    {
     "name": "stdout",
     "output_type": "stream",
     "text": [
      "[1] A+ B  C  C  D  A  B  B \n",
      "Levels: A B C D A+\n"
     ]
    }
   ],
   "source": [
    "grades_char_fac[1] <- \"A+\"\n",
    "print(grades_char_fac)"
   ]
  },
  {
   "cell_type": "markdown",
   "id": "5aefebb6",
   "metadata": {},
   "source": [
    "# Lists In R\n",
    "\n",
    "List is a data structure in R which contains elements of different types(vector, factor, list)"
   ]
  },
  {
   "cell_type": "markdown",
   "id": "be3e087f",
   "metadata": {},
   "source": [
    "## Create a list in R\n",
    "`list()` function creates a list in R. "
   ]
  },
  {
   "cell_type": "code",
   "execution_count": 11,
   "id": "2d7eaa97",
   "metadata": {
    "vscode": {
     "languageId": "r"
    }
   },
   "outputs": [
    {
     "name": "stdout",
     "output_type": "stream",
     "text": [
      "[[1]]\n",
      "[1] \"John\"\n",
      "\n",
      "[[2]]\n",
      "[1] 23\n",
      "\n",
      "[[3]]\n",
      "[1] \"ML\"       \"ROBOTICS\" \"SI\"      \n",
      "\n"
     ]
    }
   ],
   "source": [
    "myList <- list(\"John\",23,c(\"ML\",\"ROBOTICS\",\"SI\"))\n",
    "print(myList)"
   ]
  },
  {
   "cell_type": "code",
   "execution_count": 12,
   "id": "34d938ab",
   "metadata": {
    "vscode": {
     "languageId": "r"
    }
   },
   "outputs": [
    {
     "data": {
      "text/html": [
       "'list'"
      ],
      "text/latex": [
       "'list'"
      ],
      "text/markdown": [
       "'list'"
      ],
      "text/plain": [
       "[1] \"list\""
      ]
     },
     "metadata": {},
     "output_type": "display_data"
    }
   ],
   "source": [
    "class(myList)"
   ]
  },
  {
   "cell_type": "markdown",
   "id": "75e4fd2a",
   "metadata": {},
   "source": [
    "## Access to elements of a list\n",
    "\n",
    "single-brackets `[]`"
   ]
  },
  {
   "cell_type": "code",
   "execution_count": 13,
   "id": "b9edbf5c",
   "metadata": {},
   "outputs": [
    {
     "name": "stdout",
     "output_type": "stream",
     "text": [
      "[[1]]\n",
      "[1] \"John\"\n",
      "\n"
     ]
    }
   ],
   "source": [
    "print(myList[1])"
   ]
  },
  {
   "cell_type": "code",
   "execution_count": 14,
   "id": "ccf39b7c",
   "metadata": {
    "vscode": {
     "languageId": "r"
    }
   },
   "outputs": [
    {
     "name": "stdout",
     "output_type": "stream",
     "text": [
      "[[1]]\n",
      "[1] 23\n",
      "\n",
      "[[2]]\n",
      "[1] \"ML\"       \"ROBOTICS\" \"SI\"      \n",
      "\n"
     ]
    }
   ],
   "source": [
    "print(myList[-1])"
   ]
  },
  {
   "cell_type": "code",
   "execution_count": 15,
   "id": "da3c270e",
   "metadata": {
    "vscode": {
     "languageId": "r"
    }
   },
   "outputs": [
    {
     "data": {
      "text/html": [
       "'list'"
      ],
      "text/latex": [
       "'list'"
      ],
      "text/markdown": [
       "'list'"
      ],
      "text/plain": [
       "[1] \"list\""
      ]
     },
     "metadata": {},
     "output_type": "display_data"
    }
   ],
   "source": [
    "class(myList[-1])"
   ]
  },
  {
   "cell_type": "markdown",
   "id": "86798c1c",
   "metadata": {},
   "source": [
    "## Access to each element's value\n",
    "\n",
    "double-brackets `[[]]`"
   ]
  },
  {
   "cell_type": "code",
   "execution_count": 16,
   "id": "cd1686d5",
   "metadata": {
    "vscode": {
     "languageId": "r"
    }
   },
   "outputs": [
    {
     "name": "stdout",
     "output_type": "stream",
     "text": [
      "[1] \"ML\"       \"ROBOTICS\" \"SI\"      \n",
      "[1] \"character\"\n"
     ]
    }
   ],
   "source": [
    "a = myList[[3]]\n",
    "print(a)\n",
    "print(class(a))"
   ]
  },
  {
   "cell_type": "markdown",
   "id": "be5f0ba3",
   "metadata": {},
   "source": [
    "## Naming in Lists"
   ]
  },
  {
   "cell_type": "code",
   "execution_count": 17,
   "id": "7e260661",
   "metadata": {
    "vscode": {
     "languageId": "r"
    }
   },
   "outputs": [
    {
     "name": "stdout",
     "output_type": "stream",
     "text": [
      "$name\n",
      "[1] \"John\"\n",
      "\n",
      "$age\n",
      "[1] 23\n",
      "\n",
      "$courses\n",
      "[1] \"ML\"       \"ROBOTICS\" \"SI\"      \n",
      "\n",
      "$grade\n",
      "[1] A B C\n",
      "Levels: A B C\n",
      "\n"
     ]
    }
   ],
   "source": [
    "myList <- list(name=\"John\",age = 23,courses = c(\"ML\", \"ROBOTICS\", \"SI\"), grade = as.factor(c(\"A\",\"B\",\"C\")))\n",
    "print(myList)"
   ]
  },
  {
   "cell_type": "code",
   "execution_count": 18,
   "id": "21b515ff",
   "metadata": {
    "vscode": {
     "languageId": "r"
    }
   },
   "outputs": [
    {
     "name": "stdout",
     "output_type": "stream",
     "text": [
      "$courses\n",
      "[1] \"ML\"       \"ROBOTICS\" \"SI\"      \n",
      "\n"
     ]
    },
    {
     "data": {
      "text/html": [
       "'list'"
      ],
      "text/latex": [
       "'list'"
      ],
      "text/markdown": [
       "'list'"
      ],
      "text/plain": [
       "[1] \"list\""
      ]
     },
     "metadata": {},
     "output_type": "display_data"
    }
   ],
   "source": [
    "print(myList[\"courses\"])\n",
    "class(myList[\"courses\"])"
   ]
  },
  {
   "cell_type": "code",
   "execution_count": 19,
   "id": "68acc884",
   "metadata": {
    "vscode": {
     "languageId": "r"
    }
   },
   "outputs": [
    {
     "name": "stdout",
     "output_type": "stream",
     "text": [
      "[1] \"ML\"       \"ROBOTICS\" \"SI\"      \n"
     ]
    },
    {
     "data": {
      "text/html": [
       "'character'"
      ],
      "text/latex": [
       "'character'"
      ],
      "text/markdown": [
       "'character'"
      ],
      "text/plain": [
       "[1] \"character\""
      ]
     },
     "metadata": {},
     "output_type": "display_data"
    }
   ],
   "source": [
    "print(myList[[\"courses\"]])\n",
    "class(myList[[\"courses\"]])"
   ]
  },
  {
   "cell_type": "markdown",
   "id": "176c2b62",
   "metadata": {},
   "source": [
    "### When elements in the list define by name, we can use `$` instead of double-brackets `[[]]`"
   ]
  },
  {
   "cell_type": "code",
   "execution_count": 20,
   "id": "d02e1cff",
   "metadata": {
    "vscode": {
     "languageId": "r"
    }
   },
   "outputs": [
    {
     "name": "stdout",
     "output_type": "stream",
     "text": [
      "[1] \"ML\"       \"ROBOTICS\" \"SI\"      \n"
     ]
    }
   ],
   "source": [
    "print(myList$courses)"
   ]
  },
  {
   "cell_type": "code",
   "execution_count": 21,
   "id": "6e2ae950",
   "metadata": {},
   "outputs": [
    {
     "data": {
      "text/html": [
       "'character'"
      ],
      "text/latex": [
       "'character'"
      ],
      "text/markdown": [
       "'character'"
      ],
      "text/plain": [
       "[1] \"character\""
      ]
     },
     "metadata": {},
     "output_type": "display_data"
    }
   ],
   "source": [
    "class(myList$courses)"
   ]
  },
  {
   "cell_type": "code",
   "execution_count": null,
   "id": "7cb366bd",
   "metadata": {},
   "outputs": [],
   "source": []
  },
  {
   "cell_type": "code",
   "execution_count": null,
   "id": "d85b8c1e",
   "metadata": {},
   "outputs": [],
   "source": []
  },
  {
   "cell_type": "code",
   "execution_count": null,
   "id": "0315f4aa",
   "metadata": {},
   "outputs": [],
   "source": []
  }
 ],
 "metadata": {
  "kernelspec": {
   "display_name": "R",
   "language": "R",
   "name": "ir"
  },
  "language_info": {
   "codemirror_mode": "r",
   "file_extension": ".r",
   "mimetype": "text/x-r-source",
   "name": "R",
   "pygments_lexer": "r",
   "version": "3.6.1"
  }
 },
 "nbformat": 4,
 "nbformat_minor": 5
}

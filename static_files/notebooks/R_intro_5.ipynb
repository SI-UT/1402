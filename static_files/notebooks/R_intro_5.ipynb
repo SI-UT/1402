{
 "cells": [
  {
   "cell_type": "markdown",
   "id": "7e2c6980",
   "metadata": {},
   "source": [
    "<div style=\"display:block\" direction=rtl align=right><br><br>\n",
    "    <div  style=\"width:100%;margin:100;display:block\"  display=block align=center>\n",
    "        <img width=130 align=right src=\"https://i.ibb.co/yXKQmtZ/logo1.png\" style=\"margin:200;\" />\n",
    "        <img width=170 align=left  src=\"https://i.ibb.co/wLjqFkw/logo2.png\" style=\"margin:0;\" />\n",
    "        <span><br><font size=6>University of Tehran, school of ECE</font></span>\n",
    "        <span><br><font size=4>Statistical Inference Course</font></span>\n",
    "        <span><br><font size=3>R workshop</font></span>\n",
    "        <span><br><font size=3>Missing Values, Data Frame</font></span>\n",
    "        <span><br><font size=3>Spring 1402</font></span>\n",
    "    </div><br><br><br>\n",
    "    <div style=\"display:block\" align=left display=block> \n",
    "    </div>\n",
    "    <hr />\n",
    "</div>"
   ]
  },
  {
   "cell_type": "markdown",
   "id": "4f78977f",
   "metadata": {},
   "source": [
    "- [x] basic data type\n",
    "- [x] vectors\n",
    "- [x] factors\n",
    "- [x] lists\n",
    "- [ ] missing values in R\n",
    "- [ ] dataframe"
   ]
  },
  {
   "cell_type": "markdown",
   "id": "d253e055",
   "metadata": {},
   "source": [
    "# Missing Values \n",
    "\n",
    "R has two types of missing data, `NA` and `NULL`. While they are similar, they behave differently and that difference needs attention."
   ]
  },
  {
   "cell_type": "markdown",
   "id": "6e5dc99b",
   "metadata": {},
   "source": [
    "## NA (Not Available)\n",
    "\n",
    "Often we will have data that has missing values for any number of reasons.`NA` will be seen as just another element of a vector."
   ]
  },
  {
   "cell_type": "code",
   "execution_count": null,
   "id": "92ff7dc6",
   "metadata": {
    "vscode": {
     "languageId": "r"
    }
   },
   "outputs": [],
   "source": [
    "grades <- c(14, 19, 18, NA, 17, 20, 16, 18, 16, NA)\n",
    "print(grades)"
   ]
  },
  {
   "cell_type": "markdown",
   "id": "ab892319",
   "metadata": {},
   "source": [
    "`is.na` tests each element of a vector for missingness."
   ]
  },
  {
   "cell_type": "code",
   "execution_count": null,
   "id": "4e590f20",
   "metadata": {},
   "outputs": [],
   "source": [
    "is.na(grades)"
   ]
  },
  {
   "cell_type": "markdown",
   "id": "91386aba",
   "metadata": {},
   "source": [
    "If we calculate the mean of grades, the answer will be `NA` since mean returns `NA` if even a\n",
    "single element is `NA`."
   ]
  },
  {
   "cell_type": "code",
   "execution_count": null,
   "id": "f1f0539e",
   "metadata": {},
   "outputs": [],
   "source": [
    "print(mean(grades))"
   ]
  },
  {
   "cell_type": "markdown",
   "id": "b04e4de6",
   "metadata": {},
   "source": [
    "   When the `na.rm` is `TRUE`, mean first **removes the missing data**, then calculates the mean."
   ]
  },
  {
   "cell_type": "code",
   "execution_count": null,
   "id": "20bb248f",
   "metadata": {},
   "outputs": [],
   "source": [
    "print(mean(grades, na.rm = TRUE))\n",
    "print(var(grades, na.rm = TRUE))"
   ]
  },
  {
   "cell_type": "markdown",
   "id": "5063c18a",
   "metadata": {},
   "source": [
    "## NULL\n",
    "\n",
    "* `NULL` is the absence of anything. \n",
    "* `NULL` is not exactly **missingness**, it is **nothingness**. \n",
    "* An important difference between `NA` and `NULL` is that `NULL` cannot exist within a vector. If used inside a vector, it simply disappears."
   ]
  },
  {
   "cell_type": "code",
   "execution_count": null,
   "id": "c6451985",
   "metadata": {
    "vscode": {
     "languageId": "r"
    }
   },
   "outputs": [],
   "source": [
    "grades <- c(14, 19, 18, NULL, 17, 20, 16, 18, 16, NULL)\n",
    "print(grades) #?"
   ]
  },
  {
   "cell_type": "code",
   "execution_count": null,
   "id": "27cd9ee4",
   "metadata": {},
   "outputs": [],
   "source": [
    "print(mean(grades))"
   ]
  },
  {
   "cell_type": "markdown",
   "id": "644972bc",
   "metadata": {},
   "source": [
    "# Data Frames\n",
    "\n",
    "* A `data.frame` is just like an Excel spreadsheet in that it has columns and rows.\n",
    "* In statistical terms, each column is a variable and each row is an observation.\n",
    "* Each column is actually a vector.\n",
    "* Columns must be same length."
   ]
  },
  {
   "cell_type": "markdown",
   "id": "d366febc",
   "metadata": {
    "vscode": {
     "languageId": "r"
    }
   },
   "source": [
    "## Construct a Dataframe using `data.frame()` function"
   ]
  },
  {
   "cell_type": "code",
   "execution_count": 1,
   "id": "9b42115d",
   "metadata": {},
   "outputs": [
    {
     "data": {
      "text/html": [
       "<table>\n",
       "<thead><tr><th scope=col>h</th><th scope=col>w</th><th scope=col>s</th></tr></thead>\n",
       "<tbody>\n",
       "\t<tr><td>171   </td><td>70    </td><td>SOCCER</td></tr>\n",
       "\t<tr><td>177   </td><td>80    </td><td>VOLLEY</td></tr>\n",
       "\t<tr><td>168   </td><td>65    </td><td>TENNIS</td></tr>\n",
       "\t<tr><td>180   </td><td>84    </td><td>VOLLEY</td></tr>\n",
       "\t<tr><td>172   </td><td>64    </td><td>TENNIS</td></tr>\n",
       "\t<tr><td>183   </td><td>90    </td><td>VOLLEY</td></tr>\n",
       "\t<tr><td>186   </td><td>95    </td><td>VOLLEY</td></tr>\n",
       "\t<tr><td>170   </td><td>73    </td><td>SOCCER</td></tr>\n",
       "\t<tr><td>175   </td><td>75    </td><td>TENNIS</td></tr>\n",
       "</tbody>\n",
       "</table>\n"
      ],
      "text/latex": [
       "\\begin{tabular}{r|lll}\n",
       " h & w & s\\\\\n",
       "\\hline\n",
       "\t 171    & 70     & SOCCER\\\\\n",
       "\t 177    & 80     & VOLLEY\\\\\n",
       "\t 168    & 65     & TENNIS\\\\\n",
       "\t 180    & 84     & VOLLEY\\\\\n",
       "\t 172    & 64     & TENNIS\\\\\n",
       "\t 183    & 90     & VOLLEY\\\\\n",
       "\t 186    & 95     & VOLLEY\\\\\n",
       "\t 170    & 73     & SOCCER\\\\\n",
       "\t 175    & 75     & TENNIS\\\\\n",
       "\\end{tabular}\n"
      ],
      "text/markdown": [
       "\n",
       "| h | w | s |\n",
       "|---|---|---|\n",
       "| 171    | 70     | SOCCER |\n",
       "| 177    | 80     | VOLLEY |\n",
       "| 168    | 65     | TENNIS |\n",
       "| 180    | 84     | VOLLEY |\n",
       "| 172    | 64     | TENNIS |\n",
       "| 183    | 90     | VOLLEY |\n",
       "| 186    | 95     | VOLLEY |\n",
       "| 170    | 73     | SOCCER |\n",
       "| 175    | 75     | TENNIS |\n",
       "\n"
      ],
      "text/plain": [
       "  h   w  s     \n",
       "1 171 70 SOCCER\n",
       "2 177 80 VOLLEY\n",
       "3 168 65 TENNIS\n",
       "4 180 84 VOLLEY\n",
       "5 172 64 TENNIS\n",
       "6 183 90 VOLLEY\n",
       "7 186 95 VOLLEY\n",
       "8 170 73 SOCCER\n",
       "9 175 75 TENNIS"
      ]
     },
     "metadata": {},
     "output_type": "display_data"
    }
   ],
   "source": [
    "h <- c(171, 177, 168, 180, 172, 183, 186, 170, 175)\n",
    "w <- c(70, 80, 65, 84, 64, 90, 95, 73, 75)\n",
    "s <- c(\"SOCCER\",\"VOLLEY\", \"TENNIS\", \"VOLLEY\", \"TENNIS\",  \"VOLLEY\", \"VOLLEY\", \"SOCCER\", \"TENNIS\")\n",
    "df <- data.frame(h,w,s)\n",
    "df"
   ]
  },
  {
   "cell_type": "markdown",
   "id": "cbefe847",
   "metadata": {},
   "source": [
    " We could have assigned names during the creation process:"
   ]
  },
  {
   "cell_type": "code",
   "execution_count": 2,
   "id": "9b023c8a",
   "metadata": {},
   "outputs": [
    {
     "data": {
      "text/html": [
       "<table>\n",
       "<thead><tr><th scope=col>height</th><th scope=col>weight</th><th scope=col>sport</th></tr></thead>\n",
       "<tbody>\n",
       "\t<tr><td>171   </td><td>70    </td><td>SOCCER</td></tr>\n",
       "\t<tr><td>177   </td><td>80    </td><td>VOLLEY</td></tr>\n",
       "\t<tr><td>168   </td><td>65    </td><td>TENNIS</td></tr>\n",
       "\t<tr><td>180   </td><td>84    </td><td>VOLLEY</td></tr>\n",
       "\t<tr><td>172   </td><td>64    </td><td>TENNIS</td></tr>\n",
       "\t<tr><td>183   </td><td>90    </td><td>VOLLEY</td></tr>\n",
       "\t<tr><td>186   </td><td>95    </td><td>VOLLEY</td></tr>\n",
       "\t<tr><td>170   </td><td>73    </td><td>SOCCER</td></tr>\n",
       "\t<tr><td>175   </td><td>75    </td><td>TENNIS</td></tr>\n",
       "</tbody>\n",
       "</table>\n"
      ],
      "text/latex": [
       "\\begin{tabular}{r|lll}\n",
       " height & weight & sport\\\\\n",
       "\\hline\n",
       "\t 171    & 70     & SOCCER\\\\\n",
       "\t 177    & 80     & VOLLEY\\\\\n",
       "\t 168    & 65     & TENNIS\\\\\n",
       "\t 180    & 84     & VOLLEY\\\\\n",
       "\t 172    & 64     & TENNIS\\\\\n",
       "\t 183    & 90     & VOLLEY\\\\\n",
       "\t 186    & 95     & VOLLEY\\\\\n",
       "\t 170    & 73     & SOCCER\\\\\n",
       "\t 175    & 75     & TENNIS\\\\\n",
       "\\end{tabular}\n"
      ],
      "text/markdown": [
       "\n",
       "| height | weight | sport |\n",
       "|---|---|---|\n",
       "| 171    | 70     | SOCCER |\n",
       "| 177    | 80     | VOLLEY |\n",
       "| 168    | 65     | TENNIS |\n",
       "| 180    | 84     | VOLLEY |\n",
       "| 172    | 64     | TENNIS |\n",
       "| 183    | 90     | VOLLEY |\n",
       "| 186    | 95     | VOLLEY |\n",
       "| 170    | 73     | SOCCER |\n",
       "| 175    | 75     | TENNIS |\n",
       "\n"
      ],
      "text/plain": [
       "  height weight sport \n",
       "1 171    70     SOCCER\n",
       "2 177    80     VOLLEY\n",
       "3 168    65     TENNIS\n",
       "4 180    84     VOLLEY\n",
       "5 172    64     TENNIS\n",
       "6 183    90     VOLLEY\n",
       "7 186    95     VOLLEY\n",
       "8 170    73     SOCCER\n",
       "9 175    75     TENNIS"
      ]
     },
     "metadata": {},
     "output_type": "display_data"
    }
   ],
   "source": [
    "df <- data.frame(height=h, weight=w, sport=s)\n",
    "df"
   ]
  },
  {
   "cell_type": "markdown",
   "id": "353abc33",
   "metadata": {},
   "source": [
    "## Calling Functions"
   ]
  },
  {
   "cell_type": "code",
   "execution_count": 3,
   "id": "c9ab91aa",
   "metadata": {},
   "outputs": [
    {
     "data": {
      "text/html": [
       "9"
      ],
      "text/latex": [
       "9"
      ],
      "text/markdown": [
       "9"
      ],
      "text/plain": [
       "[1] 9"
      ]
     },
     "metadata": {},
     "output_type": "display_data"
    }
   ],
   "source": [
    "nrow(df)"
   ]
  },
  {
   "cell_type": "code",
   "execution_count": 4,
   "id": "fd9a5529",
   "metadata": {},
   "outputs": [
    {
     "data": {
      "text/html": [
       "3"
      ],
      "text/latex": [
       "3"
      ],
      "text/markdown": [
       "3"
      ],
      "text/plain": [
       "[1] 3"
      ]
     },
     "metadata": {},
     "output_type": "display_data"
    }
   ],
   "source": [
    "ncol(df)"
   ]
  },
  {
   "cell_type": "code",
   "execution_count": 5,
   "id": "c5f2425d",
   "metadata": {},
   "outputs": [
    {
     "name": "stdout",
     "output_type": "stream",
     "text": [
      "[1] 9 3\n"
     ]
    }
   ],
   "source": [
    "print(dim(df))"
   ]
  },
  {
   "cell_type": "markdown",
   "id": "0bc55741",
   "metadata": {},
   "source": [
    "Checking the column names of a `data.frame` is as simple as using the `names()` function. This returns a character vector listing the columns."
   ]
  },
  {
   "cell_type": "code",
   "execution_count": 6,
   "id": "5bf05282",
   "metadata": {},
   "outputs": [
    {
     "name": "stdout",
     "output_type": "stream",
     "text": [
      "[1] \"height\" \"weight\" \"sport\" \n"
     ]
    }
   ],
   "source": [
    "print(names(df))"
   ]
  },
  {
   "cell_type": "markdown",
   "id": "7ac0b061",
   "metadata": {},
   "source": [
    "`head()` function prints out only the first few rows."
   ]
  },
  {
   "cell_type": "code",
   "execution_count": 7,
   "id": "3bc7ad6c",
   "metadata": {},
   "outputs": [
    {
     "data": {
      "text/html": [
       "<table>\n",
       "<thead><tr><th scope=col>height</th><th scope=col>weight</th><th scope=col>sport</th></tr></thead>\n",
       "<tbody>\n",
       "\t<tr><td>171   </td><td>70    </td><td>SOCCER</td></tr>\n",
       "\t<tr><td>177   </td><td>80    </td><td>VOLLEY</td></tr>\n",
       "\t<tr><td>168   </td><td>65    </td><td>TENNIS</td></tr>\n",
       "</tbody>\n",
       "</table>\n"
      ],
      "text/latex": [
       "\\begin{tabular}{r|lll}\n",
       " height & weight & sport\\\\\n",
       "\\hline\n",
       "\t 171    & 70     & SOCCER\\\\\n",
       "\t 177    & 80     & VOLLEY\\\\\n",
       "\t 168    & 65     & TENNIS\\\\\n",
       "\\end{tabular}\n"
      ],
      "text/markdown": [
       "\n",
       "| height | weight | sport |\n",
       "|---|---|---|\n",
       "| 171    | 70     | SOCCER |\n",
       "| 177    | 80     | VOLLEY |\n",
       "| 168    | 65     | TENNIS |\n",
       "\n"
      ],
      "text/plain": [
       "  height weight sport \n",
       "1 171    70     SOCCER\n",
       "2 177    80     VOLLEY\n",
       "3 168    65     TENNIS"
      ]
     },
     "metadata": {},
     "output_type": "display_data"
    }
   ],
   "source": [
    "head(df, n=3)"
   ]
  },
  {
   "cell_type": "markdown",
   "id": "2d170093",
   "metadata": {},
   "source": [
    "## Access to data.frame elements"
   ]
  },
  {
   "cell_type": "markdown",
   "id": "b345ad26",
   "metadata": {},
   "source": [
    "Similar to **Lists**, data.frames allow us to access individual elements by their\n",
    "position using brackets. first is the row number and the second is the column number. So to get the third row from\n",
    "the second column we use `df[3, 2]`."
   ]
  },
  {
   "cell_type": "code",
   "execution_count": 11,
   "id": "e241329a",
   "metadata": {},
   "outputs": [
    {
     "data": {
      "text/html": [
       "65"
      ],
      "text/latex": [
       "65"
      ],
      "text/markdown": [
       "65"
      ],
      "text/plain": [
       "[1] 65"
      ]
     },
     "metadata": {},
     "output_type": "display_data"
    }
   ],
   "source": [
    "df[3,2]"
   ]
  },
  {
   "cell_type": "markdown",
   "id": "6727d4f3",
   "metadata": {},
   "source": [
    "To specify more than one row or column, use a `vector` of indices:"
   ]
  },
  {
   "cell_type": "code",
   "execution_count": 12,
   "id": "466cce25",
   "metadata": {},
   "outputs": [
    {
     "data": {
      "text/html": [
       "<table>\n",
       "<thead><tr><th></th><th scope=col>height</th><th scope=col>sport</th></tr></thead>\n",
       "<tbody>\n",
       "\t<tr><th scope=row>3</th><td>168   </td><td>TENNIS</td></tr>\n",
       "\t<tr><th scope=row>4</th><td>180   </td><td>VOLLEY</td></tr>\n",
       "\t<tr><th scope=row>5</th><td>172   </td><td>TENNIS</td></tr>\n",
       "</tbody>\n",
       "</table>\n"
      ],
      "text/latex": [
       "\\begin{tabular}{r|ll}\n",
       "  & height & sport\\\\\n",
       "\\hline\n",
       "\t3 & 168    & TENNIS\\\\\n",
       "\t4 & 180    & VOLLEY\\\\\n",
       "\t5 & 172    & TENNIS\\\\\n",
       "\\end{tabular}\n"
      ],
      "text/markdown": [
       "\n",
       "| <!--/--> | height | sport |\n",
       "|---|---|---|\n",
       "| 3 | 168    | TENNIS |\n",
       "| 4 | 180    | VOLLEY |\n",
       "| 5 | 172    | TENNIS |\n",
       "\n"
      ],
      "text/plain": [
       "  height sport \n",
       "3 168    TENNIS\n",
       "4 180    VOLLEY\n",
       "5 172    TENNIS"
      ]
     },
     "metadata": {},
     "output_type": "display_data"
    }
   ],
   "source": [
    "# rows 3 through 5, columns 1 and 3\n",
    "df[3:5,c(1,3)]\n"
   ]
  },
  {
   "cell_type": "markdown",
   "id": "17c0b8fb",
   "metadata": {},
   "source": [
    "To access an entire row, specify that row while not specifying any column. Likewise, to access an entire column, specify that column while not specifying any row."
   ]
  },
  {
   "cell_type": "code",
   "execution_count": 13,
   "id": "62ebd750",
   "metadata": {},
   "outputs": [
    {
     "data": {
      "text/html": [
       "<table>\n",
       "<thead><tr><th scope=col>weight</th><th scope=col>sport</th></tr></thead>\n",
       "<tbody>\n",
       "\t<tr><td>70    </td><td>SOCCER</td></tr>\n",
       "\t<tr><td>80    </td><td>VOLLEY</td></tr>\n",
       "\t<tr><td>65    </td><td>TENNIS</td></tr>\n",
       "\t<tr><td>84    </td><td>VOLLEY</td></tr>\n",
       "\t<tr><td>64    </td><td>TENNIS</td></tr>\n",
       "\t<tr><td>90    </td><td>VOLLEY</td></tr>\n",
       "\t<tr><td>95    </td><td>VOLLEY</td></tr>\n",
       "\t<tr><td>73    </td><td>SOCCER</td></tr>\n",
       "\t<tr><td>75    </td><td>TENNIS</td></tr>\n",
       "</tbody>\n",
       "</table>\n"
      ],
      "text/latex": [
       "\\begin{tabular}{r|ll}\n",
       " weight & sport\\\\\n",
       "\\hline\n",
       "\t 70     & SOCCER\\\\\n",
       "\t 80     & VOLLEY\\\\\n",
       "\t 65     & TENNIS\\\\\n",
       "\t 84     & VOLLEY\\\\\n",
       "\t 64     & TENNIS\\\\\n",
       "\t 90     & VOLLEY\\\\\n",
       "\t 95     & VOLLEY\\\\\n",
       "\t 73     & SOCCER\\\\\n",
       "\t 75     & TENNIS\\\\\n",
       "\\end{tabular}\n"
      ],
      "text/markdown": [
       "\n",
       "| weight | sport |\n",
       "|---|---|\n",
       "| 70     | SOCCER |\n",
       "| 80     | VOLLEY |\n",
       "| 65     | TENNIS |\n",
       "| 84     | VOLLEY |\n",
       "| 64     | TENNIS |\n",
       "| 90     | VOLLEY |\n",
       "| 95     | VOLLEY |\n",
       "| 73     | SOCCER |\n",
       "| 75     | TENNIS |\n",
       "\n"
      ],
      "text/plain": [
       "  weight sport \n",
       "1 70     SOCCER\n",
       "2 80     VOLLEY\n",
       "3 65     TENNIS\n",
       "4 84     VOLLEY\n",
       "5 64     TENNIS\n",
       "6 90     VOLLEY\n",
       "7 95     VOLLEY\n",
       "8 73     SOCCER\n",
       "9 75     TENNIS"
      ]
     },
     "metadata": {},
     "output_type": "display_data"
    }
   ],
   "source": [
    "# all of columns 2 through 3\n",
    "df[,2:3]"
   ]
  },
  {
   "cell_type": "code",
   "execution_count": 14,
   "id": "20242d2d",
   "metadata": {},
   "outputs": [
    {
     "data": {
      "text/html": [
       "<table>\n",
       "<thead><tr><th></th><th scope=col>height</th><th scope=col>weight</th><th scope=col>sport</th></tr></thead>\n",
       "<tbody>\n",
       "\t<tr><th scope=row>2</th><td>177   </td><td>80    </td><td>VOLLEY</td></tr>\n",
       "\t<tr><th scope=row>3</th><td>168   </td><td>65    </td><td>TENNIS</td></tr>\n",
       "\t<tr><th scope=row>4</th><td>180   </td><td>84    </td><td>VOLLEY</td></tr>\n",
       "</tbody>\n",
       "</table>\n"
      ],
      "text/latex": [
       "\\begin{tabular}{r|lll}\n",
       "  & height & weight & sport\\\\\n",
       "\\hline\n",
       "\t2 & 177    & 80     & VOLLEY\\\\\n",
       "\t3 & 168    & 65     & TENNIS\\\\\n",
       "\t4 & 180    & 84     & VOLLEY\\\\\n",
       "\\end{tabular}\n"
      ],
      "text/markdown": [
       "\n",
       "| <!--/--> | height | weight | sport |\n",
       "|---|---|---|---|\n",
       "| 2 | 177    | 80     | VOLLEY |\n",
       "| 3 | 168    | 65     | TENNIS |\n",
       "| 4 | 180    | 84     | VOLLEY |\n",
       "\n"
      ],
      "text/plain": [
       "  height weight sport \n",
       "2 177    80     VOLLEY\n",
       "3 168    65     TENNIS\n",
       "4 180    84     VOLLEY"
      ]
     },
     "metadata": {},
     "output_type": "display_data"
    }
   ],
   "source": [
    "# all of rows 2 through 4\n",
    "df[2:4,]"
   ]
  },
  {
   "cell_type": "markdown",
   "id": "38caae7c",
   "metadata": {},
   "source": [
    "To access multiple columns by name, make the column argument a character vector of the names"
   ]
  },
  {
   "cell_type": "code",
   "execution_count": 15,
   "id": "08977732",
   "metadata": {},
   "outputs": [
    {
     "data": {
      "text/html": [
       "<table>\n",
       "<thead><tr><th scope=col>weight</th><th scope=col>sport</th></tr></thead>\n",
       "<tbody>\n",
       "\t<tr><td>70    </td><td>SOCCER</td></tr>\n",
       "\t<tr><td>80    </td><td>VOLLEY</td></tr>\n",
       "\t<tr><td>65    </td><td>TENNIS</td></tr>\n",
       "\t<tr><td>84    </td><td>VOLLEY</td></tr>\n",
       "\t<tr><td>64    </td><td>TENNIS</td></tr>\n",
       "\t<tr><td>90    </td><td>VOLLEY</td></tr>\n",
       "\t<tr><td>95    </td><td>VOLLEY</td></tr>\n",
       "\t<tr><td>73    </td><td>SOCCER</td></tr>\n",
       "\t<tr><td>75    </td><td>TENNIS</td></tr>\n",
       "</tbody>\n",
       "</table>\n"
      ],
      "text/latex": [
       "\\begin{tabular}{r|ll}\n",
       " weight & sport\\\\\n",
       "\\hline\n",
       "\t 70     & SOCCER\\\\\n",
       "\t 80     & VOLLEY\\\\\n",
       "\t 65     & TENNIS\\\\\n",
       "\t 84     & VOLLEY\\\\\n",
       "\t 64     & TENNIS\\\\\n",
       "\t 90     & VOLLEY\\\\\n",
       "\t 95     & VOLLEY\\\\\n",
       "\t 73     & SOCCER\\\\\n",
       "\t 75     & TENNIS\\\\\n",
       "\\end{tabular}\n"
      ],
      "text/markdown": [
       "\n",
       "| weight | sport |\n",
       "|---|---|\n",
       "| 70     | SOCCER |\n",
       "| 80     | VOLLEY |\n",
       "| 65     | TENNIS |\n",
       "| 84     | VOLLEY |\n",
       "| 64     | TENNIS |\n",
       "| 90     | VOLLEY |\n",
       "| 95     | VOLLEY |\n",
       "| 73     | SOCCER |\n",
       "| 75     | TENNIS |\n",
       "\n"
      ],
      "text/plain": [
       "  weight sport \n",
       "1 70     SOCCER\n",
       "2 80     VOLLEY\n",
       "3 65     TENNIS\n",
       "4 84     VOLLEY\n",
       "5 64     TENNIS\n",
       "6 90     VOLLEY\n",
       "7 95     VOLLEY\n",
       "8 73     SOCCER\n",
       "9 75     TENNIS"
      ]
     },
     "metadata": {},
     "output_type": "display_data"
    }
   ],
   "source": [
    "df[,c(\"weight\", \"sport\")]"
   ]
  },
  {
   "cell_type": "markdown",
   "id": "1fd37cdf",
   "metadata": {},
   "source": [
    "### Remember From Lists"
   ]
  },
  {
   "cell_type": "code",
   "execution_count": 16,
   "id": "2e8479b3",
   "metadata": {},
   "outputs": [
    {
     "data": {
      "text/html": [
       "<table>\n",
       "<thead><tr><th scope=col>weight</th></tr></thead>\n",
       "<tbody>\n",
       "\t<tr><td>70</td></tr>\n",
       "\t<tr><td>80</td></tr>\n",
       "\t<tr><td>65</td></tr>\n",
       "\t<tr><td>84</td></tr>\n",
       "\t<tr><td>64</td></tr>\n",
       "\t<tr><td>90</td></tr>\n",
       "\t<tr><td>95</td></tr>\n",
       "\t<tr><td>73</td></tr>\n",
       "\t<tr><td>75</td></tr>\n",
       "</tbody>\n",
       "</table>\n"
      ],
      "text/latex": [
       "\\begin{tabular}{r|l}\n",
       " weight\\\\\n",
       "\\hline\n",
       "\t 70\\\\\n",
       "\t 80\\\\\n",
       "\t 65\\\\\n",
       "\t 84\\\\\n",
       "\t 64\\\\\n",
       "\t 90\\\\\n",
       "\t 95\\\\\n",
       "\t 73\\\\\n",
       "\t 75\\\\\n",
       "\\end{tabular}\n"
      ],
      "text/markdown": [
       "\n",
       "| weight |\n",
       "|---|\n",
       "| 70 |\n",
       "| 80 |\n",
       "| 65 |\n",
       "| 84 |\n",
       "| 64 |\n",
       "| 90 |\n",
       "| 95 |\n",
       "| 73 |\n",
       "| 75 |\n",
       "\n"
      ],
      "text/plain": [
       "  weight\n",
       "1 70    \n",
       "2 80    \n",
       "3 65    \n",
       "4 84    \n",
       "5 64    \n",
       "6 90    \n",
       "7 95    \n",
       "8 73    \n",
       "9 75    "
      ]
     },
     "metadata": {},
     "output_type": "display_data"
    }
   ],
   "source": [
    "df['weight']"
   ]
  },
  {
   "cell_type": "code",
   "execution_count": 17,
   "id": "cfd24218",
   "metadata": {},
   "outputs": [
    {
     "data": {
      "text/html": [
       "'data.frame'"
      ],
      "text/latex": [
       "'data.frame'"
      ],
      "text/markdown": [
       "'data.frame'"
      ],
      "text/plain": [
       "[1] \"data.frame\""
      ]
     },
     "metadata": {},
     "output_type": "display_data"
    }
   ],
   "source": [
    "class(df['weight'])"
   ]
  },
  {
   "cell_type": "code",
   "execution_count": 18,
   "id": "bc193e65",
   "metadata": {},
   "outputs": [
    {
     "data": {
      "text/html": [
       "<ol class=list-inline>\n",
       "\t<li>70</li>\n",
       "\t<li>80</li>\n",
       "\t<li>65</li>\n",
       "\t<li>84</li>\n",
       "\t<li>64</li>\n",
       "\t<li>90</li>\n",
       "\t<li>95</li>\n",
       "\t<li>73</li>\n",
       "\t<li>75</li>\n",
       "</ol>\n"
      ],
      "text/latex": [
       "\\begin{enumerate*}\n",
       "\\item 70\n",
       "\\item 80\n",
       "\\item 65\n",
       "\\item 84\n",
       "\\item 64\n",
       "\\item 90\n",
       "\\item 95\n",
       "\\item 73\n",
       "\\item 75\n",
       "\\end{enumerate*}\n"
      ],
      "text/markdown": [
       "1. 70\n",
       "2. 80\n",
       "3. 65\n",
       "4. 84\n",
       "5. 64\n",
       "6. 90\n",
       "7. 95\n",
       "8. 73\n",
       "9. 75\n",
       "\n",
       "\n"
      ],
      "text/plain": [
       "[1] 70 80 65 84 64 90 95 73 75"
      ]
     },
     "metadata": {},
     "output_type": "display_data"
    }
   ],
   "source": [
    "df[['weight']]"
   ]
  },
  {
   "cell_type": "code",
   "execution_count": 19,
   "id": "6bb646af",
   "metadata": {},
   "outputs": [
    {
     "data": {
      "text/html": [
       "'numeric'"
      ],
      "text/latex": [
       "'numeric'"
      ],
      "text/markdown": [
       "'numeric'"
      ],
      "text/plain": [
       "[1] \"numeric\""
      ]
     },
     "metadata": {},
     "output_type": "display_data"
    }
   ],
   "source": [
    "class(df[['weight']])"
   ]
  },
  {
   "cell_type": "code",
   "execution_count": 20,
   "id": "364519a6",
   "metadata": {},
   "outputs": [
    {
     "data": {
      "text/html": [
       "<ol class=list-inline>\n",
       "\t<li>70</li>\n",
       "\t<li>80</li>\n",
       "\t<li>65</li>\n",
       "\t<li>84</li>\n",
       "\t<li>64</li>\n",
       "\t<li>90</li>\n",
       "\t<li>95</li>\n",
       "\t<li>73</li>\n",
       "\t<li>75</li>\n",
       "</ol>\n"
      ],
      "text/latex": [
       "\\begin{enumerate*}\n",
       "\\item 70\n",
       "\\item 80\n",
       "\\item 65\n",
       "\\item 84\n",
       "\\item 64\n",
       "\\item 90\n",
       "\\item 95\n",
       "\\item 73\n",
       "\\item 75\n",
       "\\end{enumerate*}\n"
      ],
      "text/markdown": [
       "1. 70\n",
       "2. 80\n",
       "3. 65\n",
       "4. 84\n",
       "5. 64\n",
       "6. 90\n",
       "7. 95\n",
       "8. 73\n",
       "9. 75\n",
       "\n",
       "\n"
      ],
      "text/plain": [
       "[1] 70 80 65 84 64 90 95 73 75"
      ]
     },
     "metadata": {},
     "output_type": "display_data"
    }
   ],
   "source": [
    "df$weight"
   ]
  },
  {
   "cell_type": "markdown",
   "id": "4abd741f",
   "metadata": {},
   "source": [
    "R `data.frame()` function automatically converts columns (vectors) of characters to factors."
   ]
  },
  {
   "cell_type": "code",
   "execution_count": 21,
   "id": "2d5e9530",
   "metadata": {},
   "outputs": [
    {
     "data": {
      "text/html": [
       "<ol class=list-inline>\n",
       "\t<li>SOCCER</li>\n",
       "\t<li>VOLLEY</li>\n",
       "\t<li>TENNIS</li>\n",
       "\t<li>VOLLEY</li>\n",
       "\t<li>TENNIS</li>\n",
       "\t<li>VOLLEY</li>\n",
       "\t<li>VOLLEY</li>\n",
       "\t<li>SOCCER</li>\n",
       "\t<li>TENNIS</li>\n",
       "</ol>\n",
       "\n",
       "<details>\n",
       "\t<summary style=display:list-item;cursor:pointer>\n",
       "\t\t<strong>Levels</strong>:\n",
       "\t</summary>\n",
       "\t<ol class=list-inline>\n",
       "\t\t<li>'SOCCER'</li>\n",
       "\t\t<li>'TENNIS'</li>\n",
       "\t\t<li>'VOLLEY'</li>\n",
       "\t</ol>\n",
       "</details>"
      ],
      "text/latex": [
       "\\begin{enumerate*}\n",
       "\\item SOCCER\n",
       "\\item VOLLEY\n",
       "\\item TENNIS\n",
       "\\item VOLLEY\n",
       "\\item TENNIS\n",
       "\\item VOLLEY\n",
       "\\item VOLLEY\n",
       "\\item SOCCER\n",
       "\\item TENNIS\n",
       "\\end{enumerate*}\n",
       "\n",
       "\\emph{Levels}: \\begin{enumerate*}\n",
       "\\item 'SOCCER'\n",
       "\\item 'TENNIS'\n",
       "\\item 'VOLLEY'\n",
       "\\end{enumerate*}\n"
      ],
      "text/markdown": [
       "1. SOCCER\n",
       "2. VOLLEY\n",
       "3. TENNIS\n",
       "4. VOLLEY\n",
       "5. TENNIS\n",
       "6. VOLLEY\n",
       "7. VOLLEY\n",
       "8. SOCCER\n",
       "9. TENNIS\n",
       "\n",
       "\n",
       "\n",
       "**Levels**: 1. 'SOCCER'\n",
       "2. 'TENNIS'\n",
       "3. 'VOLLEY'\n",
       "\n",
       "\n"
      ],
      "text/plain": [
       "[1] SOCCER VOLLEY TENNIS VOLLEY TENNIS VOLLEY VOLLEY SOCCER TENNIS\n",
       "Levels: SOCCER TENNIS VOLLEY"
      ]
     },
     "metadata": {},
     "output_type": "display_data"
    }
   ],
   "source": [
    "df$sport"
   ]
  },
  {
   "cell_type": "code",
   "execution_count": 22,
   "id": "4edc8508",
   "metadata": {},
   "outputs": [
    {
     "data": {
      "text/html": [
       "<ol class=list-inline>\n",
       "\t<li>FALSE</li>\n",
       "\t<li>FALSE</li>\n",
       "\t<li>TRUE</li>\n",
       "\t<li>FALSE</li>\n",
       "\t<li>TRUE</li>\n",
       "\t<li>FALSE</li>\n",
       "\t<li>FALSE</li>\n",
       "\t<li>FALSE</li>\n",
       "\t<li>TRUE</li>\n",
       "</ol>\n"
      ],
      "text/latex": [
       "\\begin{enumerate*}\n",
       "\\item FALSE\n",
       "\\item FALSE\n",
       "\\item TRUE\n",
       "\\item FALSE\n",
       "\\item TRUE\n",
       "\\item FALSE\n",
       "\\item FALSE\n",
       "\\item FALSE\n",
       "\\item TRUE\n",
       "\\end{enumerate*}\n"
      ],
      "text/markdown": [
       "1. FALSE\n",
       "2. FALSE\n",
       "3. TRUE\n",
       "4. FALSE\n",
       "5. TRUE\n",
       "6. FALSE\n",
       "7. FALSE\n",
       "8. FALSE\n",
       "9. TRUE\n",
       "\n",
       "\n"
      ],
      "text/plain": [
       "[1] FALSE FALSE  TRUE FALSE  TRUE FALSE FALSE FALSE  TRUE"
      ]
     },
     "metadata": {},
     "output_type": "display_data"
    }
   ],
   "source": [
    "df$sport == \"TENNIS\""
   ]
  },
  {
   "cell_type": "code",
   "execution_count": 23,
   "id": "d97e24f3",
   "metadata": {},
   "outputs": [
    {
     "data": {
      "text/html": [
       "<ol class=list-inline>\n",
       "\t<li>TENNIS</li>\n",
       "\t<li>TENNIS</li>\n",
       "\t<li>TENNIS</li>\n",
       "</ol>\n",
       "\n",
       "<details>\n",
       "\t<summary style=display:list-item;cursor:pointer>\n",
       "\t\t<strong>Levels</strong>:\n",
       "\t</summary>\n",
       "\t<ol class=list-inline>\n",
       "\t\t<li>'SOCCER'</li>\n",
       "\t\t<li>'TENNIS'</li>\n",
       "\t\t<li>'VOLLEY'</li>\n",
       "\t</ol>\n",
       "</details>"
      ],
      "text/latex": [
       "\\begin{enumerate*}\n",
       "\\item TENNIS\n",
       "\\item TENNIS\n",
       "\\item TENNIS\n",
       "\\end{enumerate*}\n",
       "\n",
       "\\emph{Levels}: \\begin{enumerate*}\n",
       "\\item 'SOCCER'\n",
       "\\item 'TENNIS'\n",
       "\\item 'VOLLEY'\n",
       "\\end{enumerate*}\n"
      ],
      "text/markdown": [
       "1. TENNIS\n",
       "2. TENNIS\n",
       "3. TENNIS\n",
       "\n",
       "\n",
       "\n",
       "**Levels**: 1. 'SOCCER'\n",
       "2. 'TENNIS'\n",
       "3. 'VOLLEY'\n",
       "\n",
       "\n"
      ],
      "text/plain": [
       "[1] TENNIS TENNIS TENNIS\n",
       "Levels: SOCCER TENNIS VOLLEY"
      ]
     },
     "metadata": {},
     "output_type": "display_data"
    }
   ],
   "source": [
    "mask <-c(FALSE, FALSE, TRUE, FALSE, TRUE, FALSE, FALSE, FALSE, TRUE)\n",
    "df$sport[mask]"
   ]
  },
  {
   "cell_type": "code",
   "execution_count": 24,
   "id": "67bd5510",
   "metadata": {},
   "outputs": [
    {
     "data": {
      "text/html": [
       "<table>\n",
       "<thead><tr><th></th><th scope=col>height</th><th scope=col>weight</th><th scope=col>sport</th></tr></thead>\n",
       "<tbody>\n",
       "\t<tr><th scope=row>3</th><td>168   </td><td>65    </td><td>TENNIS</td></tr>\n",
       "\t<tr><th scope=row>5</th><td>172   </td><td>64    </td><td>TENNIS</td></tr>\n",
       "\t<tr><th scope=row>9</th><td>175   </td><td>75    </td><td>TENNIS</td></tr>\n",
       "</tbody>\n",
       "</table>\n"
      ],
      "text/latex": [
       "\\begin{tabular}{r|lll}\n",
       "  & height & weight & sport\\\\\n",
       "\\hline\n",
       "\t3 & 168    & 65     & TENNIS\\\\\n",
       "\t5 & 172    & 64     & TENNIS\\\\\n",
       "\t9 & 175    & 75     & TENNIS\\\\\n",
       "\\end{tabular}\n"
      ],
      "text/markdown": [
       "\n",
       "| <!--/--> | height | weight | sport |\n",
       "|---|---|---|---|\n",
       "| 3 | 168    | 65     | TENNIS |\n",
       "| 5 | 172    | 64     | TENNIS |\n",
       "| 9 | 175    | 75     | TENNIS |\n",
       "\n"
      ],
      "text/plain": [
       "  height weight sport \n",
       "3 168    65     TENNIS\n",
       "5 172    64     TENNIS\n",
       "9 175    75     TENNIS"
      ]
     },
     "metadata": {},
     "output_type": "display_data"
    }
   ],
   "source": [
    "df[df$sport == \"TENNIS\",]"
   ]
  },
  {
   "cell_type": "code",
   "execution_count": 25,
   "id": "0562fe34",
   "metadata": {},
   "outputs": [
    {
     "data": {
      "text/html": [
       "<table>\n",
       "<thead><tr><th></th><th scope=col>weight</th><th scope=col>height</th></tr></thead>\n",
       "<tbody>\n",
       "\t<tr><th scope=row>3</th><td>65 </td><td>168</td></tr>\n",
       "\t<tr><th scope=row>5</th><td>64 </td><td>172</td></tr>\n",
       "\t<tr><th scope=row>9</th><td>75 </td><td>175</td></tr>\n",
       "</tbody>\n",
       "</table>\n"
      ],
      "text/latex": [
       "\\begin{tabular}{r|ll}\n",
       "  & weight & height\\\\\n",
       "\\hline\n",
       "\t3 & 65  & 168\\\\\n",
       "\t5 & 64  & 172\\\\\n",
       "\t9 & 75  & 175\\\\\n",
       "\\end{tabular}\n"
      ],
      "text/markdown": [
       "\n",
       "| <!--/--> | weight | height |\n",
       "|---|---|---|\n",
       "| 3 | 65  | 168 |\n",
       "| 5 | 64  | 172 |\n",
       "| 9 | 75  | 175 |\n",
       "\n"
      ],
      "text/plain": [
       "  weight height\n",
       "3 65     168   \n",
       "5 64     172   \n",
       "9 75     175   "
      ]
     },
     "metadata": {},
     "output_type": "display_data"
    }
   ],
   "source": [
    "df[df$sport == \"TENNIS\",c(\"weight\", \"height\")]"
   ]
  },
  {
   "cell_type": "code",
   "execution_count": null,
   "id": "963b1754",
   "metadata": {},
   "outputs": [],
   "source": []
  }
 ],
 "metadata": {
  "kernelspec": {
   "display_name": "R",
   "language": "R",
   "name": "ir"
  },
  "language_info": {
   "codemirror_mode": "r",
   "file_extension": ".r",
   "mimetype": "text/x-r-source",
   "name": "R",
   "pygments_lexer": "r",
   "version": "3.6.1"
  }
 },
 "nbformat": 4,
 "nbformat_minor": 5
}
